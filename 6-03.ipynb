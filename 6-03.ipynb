{
 "metadata": {
  "language_info": {
   "codemirror_mode": {
    "name": "ipython",
    "version": 3
   },
   "file_extension": ".py",
   "mimetype": "text/x-python",
   "name": "python",
   "nbconvert_exporter": "python",
   "pygments_lexer": "ipython3",
   "version": "3.8.2-final"
  },
  "orig_nbformat": 2,
  "kernelspec": {
   "name": "python_defaultSpec_1598168114769",
   "display_name": "Python 3.8.2 32-bit"
  }
 },
 "nbformat": 4,
 "nbformat_minor": 2,
 "cells": [
  {
   "cell_type": "code",
   "execution_count": 9,
   "metadata": {},
   "outputs": [],
   "source": [
    "class Nigiri:\n",
    "    category = \"にぎり\"\n",
    "    top = \"ネタ\"\n",
    "    base = \"シャリ\"\n",
    "\n",
    "    def show_attributes(self):\n",
    "        print(\"top: {}, base: {}, cotegory: {}\" .format(self. top, self. base, self. category))"
   ]
  },
  {
   "cell_type": "code",
   "execution_count": 10,
   "metadata": {
    "tags": []
   },
   "outputs": [
    {
     "output_type": "stream",
     "name": "stdout",
     "text": "top: ネタ, base: シャリ, cotegory: にぎり\n"
    }
   ],
   "source": [
    "n1 = Nigiri()\n",
    "n1.show_attributes()"
   ]
  },
  {
   "cell_type": "code",
   "execution_count": 11,
   "metadata": {},
   "outputs": [],
   "source": [
    "class Maguro(Nigiri):\n",
    "    pass"
   ]
  },
  {
   "cell_type": "code",
   "execution_count": null,
   "metadata": {},
   "outputs": [],
   "source": [
    "m1 = Maguro()\n",
    "m1.show_attrites()"
   ]
  },
  {
   "cell_type": "code",
   "execution_count": null,
   "metadata": {},
   "outputs": [],
   "source": [
    "class Maguro(Nigiri):\n",
    "    top = \"マグロ\"\n",
    "\n",
    "m3 = Maguro()\n",
    "m3/show_attributes()"
   ]
  },
  {
   "cell_type": "code",
   "execution_count": null,
   "metadata": {},
   "outputs": [],
   "source": [
    "class Maguro(Nigiri):\n",
    "    top = \"マグロ\"\n",
    "    print = 100\n",
    "\n",
    "m3 = Maguro()\n",
    "m3/show_attributes()"
   ]
  },
  {
   "cell_type": "code",
   "execution_count": null,
   "metadata": {},
   "outputs": [],
   "source": [
    "class Maguro(Nigiri):\n",
    "    top = \"マグロ\"\n",
    "    print = 100\n",
    "\n",
    "    def show_attributes(self):\n",
    "        super().show_attributes()\n",
    "\n",
    "    def show_one_dish_price(self, num_nigiri=2):\n",
    "        result = self .price * num_nigiri\n",
    "        print(\"1皿({}かん)の値段: {}円\" .format(num_nigiri, result))\n",
    "\n",
    "m5 = Maguro()\n",
    "m3 = Maguro()"
   ]
  },
  {
   "cell_type": "code",
   "execution_count": 15,
   "metadata": {},
   "outputs": [
    {
     "output_type": "error",
     "ename": "NameError",
     "evalue": "name 'nigiri' is not defined",
     "traceback": [
      "\u001b[1;31m---------------------------------------------------------------------------\u001b[0m",
      "\u001b[1;31mNameError\u001b[0m                                 Traceback (most recent call last)",
      "\u001b[1;32m<ipython-input-15-9dcbd3b8e1f1>\u001b[0m in \u001b[0;36m<module>\u001b[1;34m\u001b[0m\n\u001b[1;32m----> 1\u001b[1;33m \u001b[1;32mclass\u001b[0m \u001b[0mKatsuo\u001b[0m\u001b[1;33m(\u001b[0m\u001b[0mnigiri\u001b[0m\u001b[1;33m)\u001b[0m\u001b[1;33m:\u001b[0m\u001b[1;33m\u001b[0m\u001b[1;33m\u001b[0m\u001b[0m\n\u001b[0m\u001b[0;32m      2\u001b[0m     \u001b[0mtop\u001b[0m \u001b[1;33m=\u001b[0m \u001b[1;34m\"かつお\"\u001b[0m\u001b[1;33m\u001b[0m\u001b[1;33m\u001b[0m\u001b[0m\n\u001b[0;32m      3\u001b[0m     \u001b[0mtopping\u001b[0m \u001b[1;33m=\u001b[0m \u001b[1;34m\"ショウガとネギ\"\u001b[0m\u001b[1;33m\u001b[0m\u001b[1;33m\u001b[0m\u001b[0m\n\u001b[0;32m      4\u001b[0m     \u001b[0mprice\u001b[0m \u001b[1;33m=\u001b[0m \u001b[1;36m100\u001b[0m\u001b[1;33m\u001b[0m\u001b[1;33m\u001b[0m\u001b[0m\n\u001b[0;32m      5\u001b[0m \u001b[1;33m\u001b[0m\u001b[0m\n",
      "\u001b[1;31mNameError\u001b[0m: name 'nigiri' is not defined"
     ]
    }
   ],
   "source": [
    "class Katsuo(nigiri):\n",
    "    top = \"かつお\"\n",
    "    topping = \"ショウガとネギ\"\n",
    "    price = 100\n",
    "\n",
    "    def show_attributes(self):\n",
    "        super(). show_attributes()\n",
    "        print(\"topping: {}\" . format(self.topping))"
   ]
  },
  {
   "cell_type": "code",
   "execution_count": null,
   "metadata": {},
   "outputs": [],
   "source": [
    "class Square(Rectangle):\n",
    "    '''正方形'''\n",
    "\n",
    "    def __init__(self, width):\n",
    "        self.name = 'sqtare'\n",
    "        self.width = width\n",
    "        self.perimeter = self. calc_area()\n",
    "\n",
    "s2 = Square(4)\n",
    "s2.show_attributes()"
   ]
  }
 ]
}