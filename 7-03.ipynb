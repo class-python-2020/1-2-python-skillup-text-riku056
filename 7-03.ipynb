{
 "metadata": {
  "language_info": {
   "codemirror_mode": {
    "name": "ipython",
    "version": 3
   },
   "file_extension": ".py",
   "mimetype": "text/x-python",
   "name": "python",
   "nbconvert_exporter": "python",
   "pygments_lexer": "ipython3",
   "version": "3.8.2-final"
  },
  "orig_nbformat": 2,
  "kernelspec": {
   "name": "python_defaultSpec_1598174363517",
   "display_name": "Python 3.8.2 32-bit"
  }
 },
 "nbformat": 4,
 "nbformat_minor": 2,
 "cells": [
  {
   "cell_type": "code",
   "execution_count": 1,
   "metadata": {
    "tags": []
   },
   "outputs": [
    {
     "output_type": "stream",
     "name": "stdout",
     "text": "例外Aが発生しました\n"
    }
   ],
   "source": [
    "class ExceptA(Exception):\n",
    "    def __str__(self):\n",
    "        return \"例外Aが発生しました\"\n",
    "\n",
    "try:\n",
    "    raise ExceptA()\n",
    "except ExceptA as ea:\n",
    "    print(ea)\n",
    "except:\n",
    "    print('Unexpected Error:', sys.exc_info()) "
   ]
  },
  {
   "cell_type": "code",
   "execution_count": 4,
   "metadata": {
    "tags": []
   },
   "outputs": [
    {
     "output_type": "stream",
     "name": "stdout",
     "text": "5\n5 purple をmy_dictに追加しました\n"
    },
    {
     "output_type": "execute_result",
     "data": {
      "text/plain": "'purple'"
     },
     "metadata": {},
     "execution_count": 4
    }
   ],
   "source": [
    "color_reference = {1: 'rad', 2: 'blue', 3: 'yellow', 4: 'green', 5: 'purple'}\n",
    "\n",
    "class MyDictKeyError(Exception):\n",
    "    def __init__(self, Key):\n",
    "        self.Key = Key\n",
    "    def __sta__(self):\n",
    "        return '辞書にkeyが登録されていません{0}'.format(self.key)\n",
    "\n",
    "def get_dict_value(dict_tbl, key):\n",
    "    if key not in dict_tbl:\n",
    "        raise MyDictKeyError(key)\n",
    "    else:\n",
    "        return dict_tbl[key]\n",
    "\n",
    "my_dict = {1: 'rad', 2: 'blue', 3: 'yellow'}\n",
    "\n",
    "try:\n",
    "    my_color = get_dict_value(my_dict,5)\n",
    "except MyDictKeyError as err:\n",
    "    print(err)\n",
    "    key = err.args[0]\n",
    "    my_dict[key] = color_reference[key]\n",
    "    print(key, color_reference[key], 'をmy_dictに追加しました')\n",
    "    my_color = color_reference[key]\n",
    "\n",
    "my_color"
   ]
  },
  {
   "cell_type": "code",
   "execution_count": null,
   "metadata": {},
   "outputs": [],
   "source": []
  }
 ]
}