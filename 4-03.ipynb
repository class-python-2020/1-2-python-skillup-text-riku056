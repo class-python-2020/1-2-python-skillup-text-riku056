{
 "metadata": {
  "language_info": {
   "codemirror_mode": {
    "name": "ipython",
    "version": 3
   },
   "file_extension": ".py",
   "mimetype": "text/x-python",
   "name": "python",
   "nbconvert_exporter": "python",
   "pygments_lexer": "ipython3",
   "version": "3.8.2-final"
  },
  "orig_nbformat": 2,
  "kernelspec": {
   "name": "python_defaultSpec_1598134654518",
   "display_name": "Python 3.8.2 32-bit"
  }
 },
 "nbformat": 4,
 "nbformat_minor": 2,
 "cells": [
  {
   "cell_type": "code",
   "execution_count": 5,
   "metadata": {},
   "outputs": [],
   "source": [
    "def show_args(*args):\n",
    "    '''与えられた複数の位置数字をタブルにまとめて受け取りそのタブルを表して返す'''\n",
    "    print('Positional argument:', args)\n",
    "    return args"
   ]
  },
  {
   "cell_type": "code",
   "execution_count": 6,
   "metadata": {
    "tags": []
   },
   "outputs": [
    {
     "output_type": "stream",
     "name": "stdout",
     "text": "Positional argument: (1, 2, 3, 'da!')\n"
    },
    {
     "output_type": "execute_result",
     "data": {
      "text/plain": "(1, 2, 3, 'da!')"
     },
     "metadata": {},
     "execution_count": 6
    }
   ],
   "source": [
    "show_args(1, 2, 3,  'da!')"
   ]
  },
  {
   "cell_type": "code",
   "execution_count": 17,
   "metadata": {},
   "outputs": [],
   "source": [
    "def show_kwargs(**kwargs):\n",
    "    '''与えられた複数のキーワード因数を辞書にまとめて受け取りその辞書を表紙して返す'''\n",
    "    print('Keyword arguments:', kwargs)\n",
    "    return kwargs"
   ]
  },
  {
   "cell_type": "code",
   "execution_count": 18,
   "metadata": {
    "tags": []
   },
   "outputs": [
    {
     "output_type": "stream",
     "name": "stdout",
     "text": "Keyword arguments: {'pasta': 'ペンネ', 'drink': '赤ワイン', 'main_dish': '肉料理', 'n_customers': 3}\n"
    },
    {
     "output_type": "execute_result",
     "data": {
      "text/plain": "{'pasta': 'ペンネ', 'drink': '赤ワイン', 'main_dish': '肉料理', 'n_customers': 3}"
     },
     "metadata": {},
     "execution_count": 18
    }
   ],
   "source": [
    "show_kwargs(pasta='ペンネ',drink='赤ワイン',main_dish='肉料理', n_customers=3)"
   ]
  },
  {
   "cell_type": "code",
   "execution_count": 20,
   "metadata": {
    "tags": []
   },
   "outputs": [
    {
     "output_type": "stream",
     "name": "stdout",
     "text": "Positional argument: (4, 5, 6, 'ya')\n"
    },
    {
     "output_type": "execute_result",
     "data": {
      "text/plain": "(4, 5, 6, 'ya')"
     },
     "metadata": {},
     "execution_count": 20
    }
   ],
   "source": [
    "positional_args = (4, 5, 6, 'ya')\n",
    "show_args(*positional_args)"
   ]
  },
  {
   "cell_type": "code",
   "execution_count": 21,
   "metadata": {
    "tags": []
   },
   "outputs": [
    {
     "output_type": "stream",
     "name": "stdout",
     "text": "Positional argument: (4, 5, 6, 'ya')\n"
    },
    {
     "output_type": "execute_result",
     "data": {
      "text/plain": "(4, 5, 6, 'ya')"
     },
     "metadata": {},
     "execution_count": 21
    }
   ],
   "source": [
    "positional_args = [4, 5, 6, 'ya']\n",
    "show_args(*positional_args)"
   ]
  },
  {
   "cell_type": "code",
   "execution_count": 25,
   "metadata": {
    "tags": []
   },
   "outputs": [
    {
     "output_type": "stream",
     "name": "stdout",
     "text": "Keyword arguments: {'pasta=': 'ペンネ', 'drink': '赤ワイン', 'main_dish': '肉料理', 'n_customers': 3}\n"
    },
    {
     "output_type": "execute_result",
     "data": {
      "text/plain": "{'pasta=': 'ペンネ', 'drink': '赤ワイン', 'main_dish': '肉料理', 'n_customers': 3}"
     },
     "metadata": {},
     "execution_count": 25
    }
   ],
   "source": [
    "Keyword_args = {'pasta=' : 'ペンネ','drink' : '赤ワイン','main_dish' : '肉料理', 'n_customers' : 3}\n",
    "show_kwargs(**Keyword_args)"
   ]
  },
  {
   "cell_type": "code",
   "execution_count": 27,
   "metadata": {},
   "outputs": [
    {
     "output_type": "execute_result",
     "data": {
      "text/plain": "'a_b_c'"
     },
     "metadata": {},
     "execution_count": 27
    }
   ],
   "source": [
    "names = ('a', 'b', 'c')\n",
    "sep ='_'\n",
    "sep.join(names)"
   ]
  },
  {
   "cell_type": "code",
   "execution_count": 30,
   "metadata": {},
   "outputs": [
    {
     "output_type": "execute_result",
     "data": {
      "text/plain": "[1, 4, 9, 16]"
     },
     "metadata": {},
     "execution_count": 30
    }
   ],
   "source": [
    "def func_square(*args):\n",
    "    results = []\n",
    "    for n in args:\n",
    "        results.append(n * n)\n",
    "    return results\n",
    "\n",
    "numbers = [1, 2, 3, 4]\n",
    "func_square(*numbers)"
   ]
  },
  {
   "cell_type": "code",
   "execution_count": 31,
   "metadata": {
    "tags": []
   },
   "outputs": [
    {
     "output_type": "stream",
     "name": "stdout",
     "text": "[0, 1, 4, 9, 16, 25, 36, 49, 64, 81, 100, 121, 144, 169, 196, 225, 256, 289, 324, 361, 400, 441, 484, 529, 576, 625, 676, 729, 784, 841, 900, 961, 1024, 1089, 1156, 1225, 1296, 1369, 1444, 1521, 1600, 1681, 1764, 1849, 1936, 2025, 2116, 2209, 2304, 2401, 2500, 2601, 2704, 2809, 2916, 3025, 3136, 3249, 3364, 3481, 3600, 3721, 3844, 3969, 4096, 4225, 4356, 4489, 4624, 4761, 4900, 5041, 5184, 5329, 5476, 5625, 5776, 5929, 6084, 6241, 6400, 6561, 6724, 6889, 7056, 7225, 7396, 7569, 7744, 7921, 8100, 8281, 8464, 8649, 8836, 9025, 9216, 9409, 9604, 9801]\n"
    }
   ],
   "source": [
    "many_numbers = list(range(100))\n",
    "print(func_square(*many_numbers))"
   ]
  },
  {
   "cell_type": "code",
   "execution_count": null,
   "metadata": {},
   "outputs": [],
   "source": []
  }
 ]
}